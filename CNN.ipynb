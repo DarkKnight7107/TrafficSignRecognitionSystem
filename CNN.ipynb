{
 "cells": [
  {
   "cell_type": "code",
   "execution_count": null,
   "id": "cb530ca8",
   "metadata": {},
   "outputs": [],
   "source": [
    "import os\n",
    "import numpy as np\n",
    "import matplotlib.pyplot as plt\n",
    "from PIL import Image\n",
    "from sklearn.model_selection import train_test_split\n",
    "import keras\n",
    "from keras.utils import to_categorical\n",
    "from keras.models import Sequential\n",
    "from keras.layers import Conv2D, MaxPooling2D, Flatten, Dense, Dropout\n"
   ]
  },
  {
   "cell_type": "code",
   "execution_count": null,
   "id": "313c3cc6",
   "metadata": {},
   "outputs": [],
   "source": [
    "IMG_SIZE = 32\n",
    "NUM_CLASSES = 43\n",
    "\n",
    "def load_data(data_dir):\n",
    "    images, labels = [], []\n",
    "    for label in range(NUM_CLASSES):\n",
    "        path = os.path.join(data_dir, str(label))\n",
    "        count = 0\n",
    "        for img_name in os.listdir(path):\n",
    "            img_path = os.path.join(path, img_name)\n",
    "            count += 1\n",
    "            if count >= 1100:\n",
    "                break\n",
    "            try:\n",
    "                img = Image.open(img_path).resize((IMG_SIZE, IMG_SIZE))\n",
    "                img = np.array(img)\n",
    "                images.append(img)\n",
    "                labels.append(label)\n",
    "            except:\n",
    "                continue\n",
    "        print(f\"Loaded {count} images for label {label}\")\n",
    "    \n",
    "    return np.array(images), np.array(labels)\n",
    "\n",
    "def count_images(data_dir):\n",
    "    count = 0\n",
    "    dir = {}\n",
    "    for label in range(NUM_CLASSES):\n",
    "        path = os.path.join(data_dir, str(label))\n",
    "        count += len(os.listdir(path))\n",
    "        dir[label] = len(os.listdir(path))\n",
    "    return count, dir\n",
    "\n",
    "class_names = [\n",
    "    \"Speed limit 20\", \"Speed limit 30\", \"Speed limit 50\", \"Speed limit 60\",\n",
    "    \"Speed limit 70\", \"Speed limit 80\", \"End of speed limit 80\", \"Speed limit 100\",\n",
    "    \"Speed limit 120\", \"No passing\", \"No passing for trucks\", \"Right-of-way at intersection\",\n",
    "    \"Priority road\", \"Yield\", \"Stop\", \"No vehicles\", \"Vehicles over 3.5t prohibited\",\n",
    "    \"No entry\", \"General caution\", \"Dangerous curve left\", \"Dangerous curve right\",\n",
    "    \"Double curve\", \"Bumpy road\", \"Slippery road\", \"Road narrows on the right\",\n",
    "    \"Road work\", \"Traffic signals\", \"Pedestrians\", \"Children crossing\",\n",
    "    \"Bicycles crossing\", \"Beware of ice/snow\", \"Wild animals crossing\",\n",
    "    \"End of all restrictions\", \"Turn right ahead\", \"Turn left ahead\",\n",
    "    \"Ahead only\", \"Go straight or right\", \"Go straight or left\", \"Keep right\",\n",
    "    \"Keep left\", \"Roundabout\", \"End of no passing\", \"End of no passing for trucks\"\n",
    "]\n",
    "\n",
    "def predict_image(model,img_path):\n",
    "    img = Image.open(img_path).resize((IMG_SIZE, IMG_SIZE))\n",
    "    img = np.array(img).astype('float32') / 255.0\n",
    "    pred = model.predict(np.expand_dims(img, axis=0))\n",
    "    print(pred[0][np.argmax(pred[0])])\n",
    "    plt.imshow(img)\n",
    "    plt.bar(np.arange(NUM_CLASSES),pred[0])\n",
    "    plt.title('Prediction Distribution')\n",
    "    return class_names[np.argmax(pred)]\n"
   ]
  },
  {
   "cell_type": "code",
   "execution_count": null,
   "id": "4ddf9eca",
   "metadata": {},
   "outputs": [
    {
     "name": "stderr",
     "output_type": "stream",
     "text": [
      "WARNING:absl:Compiled the loaded model, but the compiled metrics have yet to be built. `model.compile_metrics` will be empty until you train or evaluate the model.\n"
     ]
    }
   ],
   "source": [
    "MODEL_PATH = 'cnn_model_v01.h5'\n",
    "\n",
    "try:\n",
    "    model = keras.models.load_model(MODEL_PATH)\n",
    "except:\n",
    "    X, y = load_data('archive/Train')\n",
    "    X = X.astype('float32') / 255.0\n",
    "    y = to_categorical(y, NUM_CLASSES)\n",
    "    X_train, X_val, y_train, y_val = train_test_split(X, y, test_size=0.2, random_state=42)\n",
    "\n",
    "    model = Sequential([\n",
    "        keras.Input(shape=(IMG_SIZE, IMG_SIZE, 3)),\n",
    "        Conv2D(10, (3, 3), activation='relu'),\n",
    "        Dropout(0.2),\n",
    "        MaxPooling2D(2, 2),\n",
    "        Conv2D(20, (3, 3), activation='relu'),\n",
    "        Dropout(0.2),\n",
    "        MaxPooling2D(2, 2),\n",
    "        Flatten(),\n",
    "        Dropout(0.2),\n",
    "        Dense(60, activation='relu'),\n",
    "        Dropout(0.5),\n",
    "        Dense(NUM_CLASSES, activation='softmax')\n",
    "    ])\n",
    "\n",
    "    model.compile(optimizer='adam', loss='categorical_crossentropy', metrics=['accuracy'])\n",
    "    model.summary()\n",
    "    model.save('cnn_model_v03.h5')\n",
    "\n",
    "    history = model.fit(X_train, y_train, epochs=15, batch_size=64, validation_split=0.2)\n",
    "    plt.plot(history.history['accuracy'], label='Train Acc')\n",
    "    plt.plot(history.history['val_accuracy'], label='Val Acc')\n",
    "    plt.title('Accuracy')\n",
    "    plt.xlabel('Epoch')\n",
    "    plt.ylabel('Accuracy')\n",
    "    plt.legend()\n",
    "    plt.show()\n",
    "\n",
    "\n",
    "    val_loss, val_accuracy = model.evaluate(X_val, y_val)\n",
    "    print(f'Validation Accuracy: {val_accuracy * 100:.2f}%')"
   ]
  },
  {
   "cell_type": "code",
   "execution_count": 27,
   "id": "dcf4f1df",
   "metadata": {},
   "outputs": [
    {
     "name": "stdout",
     "output_type": "stream",
     "text": [
      "\u001b[1m1/1\u001b[0m \u001b[32m━━━━━━━━━━━━━━━━━━━━\u001b[0m\u001b[37m\u001b[0m \u001b[1m0s\u001b[0m 46ms/step\n",
      "0.9999993\n",
      "Speed limit 30\n"
     ]
    },
    {
     "data": {
      "image/png": "[encoded data removed]",
      "text/plain": [
       "<Figure size 640x480 with 1 Axes>"
      ]
     },
     "metadata": {},
     "output_type": "display_data"
    }
   ],
   "source": [
    "print(predict_image(model,\"archive/Test/00001.png\"))"
   ]
  }
 ],
 "metadata": {
  "kernelspec": {
   "display_name": "tf",
   "language": "python",
   "name": "python3"
  },
  "language_info": {
   "codemirror_mode": {
    "name": "ipython",
    "version": 3
   },
   "file_extension": ".py",
   "mimetype": "text/x-python",
   "name": "python",
   "nbconvert_exporter": "python",
   "pygments_lexer": "ipython3",
   "version": "3.10.18"
  }
 },
 "nbformat": 4,
 "nbformat_minor": 5
}
