{
 "cells": [
  {
   "cell_type": "code",
   "execution_count": 2,
   "id": "65adf284",
   "metadata": {},
   "outputs": [
    {
     "name": "stdout",
     "output_type": "stream",
     "text": [
      "✅ Dataset split complete:\n",
      "  train: 4619 images\n",
      "  val: 577 images\n",
      "  test: 578 images\n"
     ]
    }
   ],
   "source": [
    "import os\n",
    "import random\n",
    "import shutil\n",
    "from pathlib import Path\n",
    "\n",
    "# Input folders (original full dataset)\n",
    "images_path = Path(\"PreparedData/images\")\n",
    "labels_path = Path(\"PreparedData/labels\")\n",
    "\n",
    "# Output root\n",
    "output_dir = Path(\"dataset\")\n",
    "splits = [\"train\", \"val\", \"test\"]\n",
    "ratios = [0.8, 0.1, 0.1]  # 80% train, 10% val, 10% test\n",
    "\n",
    "# Create destination folders\n",
    "for split in splits:\n",
    "    (output_dir / f\"images/{split}\").mkdir(parents=True, exist_ok=True)\n",
    "    (output_dir / f\"labels/{split}\").mkdir(parents=True, exist_ok=True)\n",
    "\n",
    "# Get all images (only those that have a matching label file)\n",
    "image_files = list(images_path.glob(\"*.jpg\")) + list(images_path.glob(\"*.png\"))\n",
    "image_files = [img for img in image_files if (labels_path / (img.stem + \".txt\")).exists()]\n",
    "random.shuffle(image_files)\n",
    "\n",
    "# Split the dataset\n",
    "total = len(image_files)\n",
    "train_end = int(ratios[0] * total)\n",
    "val_end = train_end + int(ratios[1] * total)\n",
    "\n",
    "splits_data = {\n",
    "    \"train\": image_files[:train_end],\n",
    "    \"val\": image_files[train_end:val_end],\n",
    "    \"test\": image_files[val_end:]\n",
    "}\n",
    "\n",
    "# Copy files\n",
    "for split, files in splits_data.items():\n",
    "    for img_file in files:\n",
    "        label_file = labels_path / (img_file.stem + \".txt\")\n",
    "\n",
    "        if not label_file.exists():\n",
    "            continue  # skip if label is missing\n",
    "\n",
    "        shutil.copy(img_file, output_dir / f\"images/{split}\" / img_file.name)\n",
    "        shutil.copy(label_file, output_dir / f\"labels/{split}\" / label_file.name)\n",
    "\n",
    "print(\"✅ Dataset split complete:\")\n",
    "for split in splits:\n",
    "    count = len(os.listdir(output_dir / f\"images/{split}\"))\n",
    "    print(f\"  {split}: {count} images\")\n"
   ]
  },
  {
   "cell_type": "code",
   "execution_count": null,
   "id": "ca52bde5",
   "metadata": {},
   "outputs": [],
   "source": []
  }
 ],
 "metadata": {
  "kernelspec": {
   "display_name": "tf",
   "language": "python",
   "name": "python3"
  },
  "language_info": {
   "codemirror_mode": {
    "name": "ipython",
    "version": 3
   },
   "file_extension": ".py",
   "mimetype": "text/x-python",
   "name": "python",
   "nbconvert_exporter": "python",
   "pygments_lexer": "ipython3",
   "version": "3.10.18"
  }
 },
 "nbformat": 4,
 "nbformat_minor": 5
}
