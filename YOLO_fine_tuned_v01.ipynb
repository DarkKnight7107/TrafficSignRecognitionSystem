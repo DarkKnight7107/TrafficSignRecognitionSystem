{
 "cells": [
  {
   "cell_type": "code",
   "execution_count": 1,
   "id": "81463e10",
   "metadata": {},
   "outputs": [],
   "source": [
    "import cv2\n",
    "import torch\n",
    "import numpy as np\n",
    "from keras.models import load_model # type: ignore\n",
    "from keras.applications.imagenet_utils import preprocess_input # type: ignore\n",
    "import os\n",
    "import warnings\n",
    "warnings.filterwarnings(\"ignore\", category=FutureWarning)\n"
   ]
  },
  {
   "cell_type": "code",
   "execution_count": 2,
   "id": "1830e901",
   "metadata": {},
   "outputs": [],
   "source": [
    "\n",
    "class_names = [\n",
    "    \"Speed limit 20\", \"Speed limit 30\", \"Speed limit 50\", \"Speed limit 60\",\n",
    "    \"Speed limit 70\", \"Speed limit 80\", \"End of speed limit 80\", \"Speed limit 100\",\n",
    "    \"Speed limit 120\", \"No passing\", \"No passing for trucks\", \"Right-of-way at intersection\",\n",
    "    \"Priority road\", \"Yield\", \"Stop\", \"No vehicles\", \"Vehicles over 3.5t prohibited\",\n",
    "    \"No entry\", \"General caution\", \"Dangerous curve left\", \"Dangerous curve right\",\n",
    "    \"Double curve\", \"Bumpy road\", \"Slippery road\", \"Road narrows on the right\",\n",
    "    \"Road work\", \"Traffic signals\", \"Pedestrians\", \"Children crossing\",\n",
    "    \"Bicycles crossing\", \"Beware of ice/snow\", \"Wild animals crossing\",\n",
    "    \"End of all restrictions\", \"Turn right ahead\", \"Turn left ahead\",\n",
    "    \"Ahead only\", \"Go straight or right\", \"Go straight or left\", \"Keep right\",\n",
    "    \"Keep left\", \"Roundabout\", \"End of no passing\", \"End of no passing for trucks\"\n",
    "]\n",
    "\n",
    "def preprocess_cnn(image):\n",
    "    image = cv2.resize(image, (32, 32))\n",
    "    image = image.astype('float32') / 255.0\n",
    "    image = np.expand_dims(image, axis=0)\n",
    "    return image"
   ]
  },
  {
   "cell_type": "code",
   "execution_count": null,
   "id": "2a7ccf3c",
   "metadata": {},
   "outputs": [],
   "source": [
    "from ultralytics import YOLO\n",
    "\n",
    "model = YOLO(\"yolov5_fine_tuned_v01.pt\")\n",
    "cnn_model = load_model('traffic_sign_model_v01.h5')\n",
    "\n",
    "cap = cv2.VideoCapture(0)\n",
    "\n",
    "cap.set(cv2.CAP_PROP_FRAME_WIDTH, 640)\n",
    "cap.set(cv2.CAP_PROP_FRAME_HEIGHT, 480)\n",
    "\n",
    "while True:\n",
    "    ret, frame = cap.read()\n",
    "    if not ret:\n",
    "        break\n",
    "\n",
    "    results = model(frame)\n",
    "    result = results[0]\n",
    "\n",
    "    boxes = result.boxes\n",
    "\n",
    "    for i, box in enumerate(boxes):\n",
    "        x1, y1, x2, y2 = map(int, box.xyxy[0])\n",
    "        cropped_img = frame[y1:y2, x1:x2]\n",
    "\n",
    "        preds = cnn_model.predict(preprocess_cnn(cropped_img))\n",
    "        pred_class = class_names[np.argmax(preds)]\n",
    "        print(f\"Detected class: {pred_class}\")\n",
    "\n",
    "        cv2.rectangle(frame, (x1, y1), (x2, y2), (0, 255, 0), 2)\n",
    "        cv2.putText(frame, f\"{pred_class}\", (x1, y1 - 10), cv2.FONT_HERSHEY_SIMPLEX, 0.6, (0, 255, 0), 2)\n",
    "\n",
    "\n",
    "    annotated_frame = results[0].plot()\n",
    "\n",
    "    cv2.imshow(\"Traffic Sign Detection\", frame)\n",
    "\n",
    "    if cv2.waitKey(1) & 0xFF == ord(\"q\"):\n",
    "        break\n",
    "\n",
    "cap.release()\n",
    "cv2.destroyAllWindows()\n"
   ]
  },
  {
   "cell_type": "code",
   "execution_count": 4,
   "id": "11ca99f9",
   "metadata": {},
   "outputs": [],
   "source": [
    "from ultralytics import YOLO\n",
    "\n",
    "model = YOLO(\"yolov8_fine_tuned_v04.pt\")"
   ]
  },
  {
   "cell_type": "code",
   "execution_count": 17,
   "id": "21a022c1",
   "metadata": {},
   "outputs": [],
   "source": [
    "\n",
    "image_folder = \"GTSDB/images/train\"\n",
    "labels_folder = \"GTSDB/labels/train\"\n",
    "\n",
    "output_file = \"v4_train_pred.txt\"\n",
    "\n",
    "# Open output file for writing\n",
    "with open(output_file, \"w\") as f:\n",
    "    # Loop over each image\n",
    "    for img_name in os.listdir(image_folder):\n",
    "        if img_name.lower().endswith((\".jpg\", \".png\", \".jpeg\")):\n",
    "            img_path = os.path.join(image_folder, img_name)\n",
    "            results = model.predict(source=img_path, save=False, conf=0.25, verbose=False)\n",
    "\n",
    "            # Get class IDs for detections in current image\n",
    "            class_ids = results[0].boxes.cls.tolist()\n",
    "\n",
    "            # Write to file: image_name class_id class_id ...\n",
    "            f.write(f\"{img_name} \" + \" \".join(str(int(cls_id)) for cls_id in class_ids) + \"\\n\")\n"
   ]
  },
  {
   "cell_type": "code",
   "execution_count": 18,
   "id": "8394958b",
   "metadata": {},
   "outputs": [],
   "source": [
    "with open(output_file, \"r\") as f:\n",
    "    lines = f.readlines()"
   ]
  },
  {
   "cell_type": "code",
   "execution_count": 19,
   "id": "a6f23432",
   "metadata": {},
   "outputs": [],
   "source": [
    "pred = []\n",
    "for line in lines:\n",
    "    parts = line.strip().split(' ')\n",
    "    img_name = parts[0]\n",
    "    if len(parts) > 1:\n",
    "        class_ids = [int(cls_id) for cls_id in parts[1:]]\n",
    "    else:\n",
    "        class_ids = [99]\n",
    "    if class_ids:\n",
    "        pred.append((img_name, class_ids))"
   ]
  },
  {
   "cell_type": "code",
   "execution_count": 20,
   "id": "a43db8ef",
   "metadata": {},
   "outputs": [],
   "source": [
    "actual = []\n",
    "for file in os.listdir(labels_folder):\n",
    "    with open(os.path.join(labels_folder, file), \"r\") as f:\n",
    "        content = f.readlines()\n",
    "        content = [line.strip() for line in content if line.strip()]\n",
    "        if content:\n",
    "            class_id = []\n",
    "            for line in content:\n",
    "                class_id.append(int(line.split()[0]))\n",
    "            actual.append((file, class_id))   "
   ]
  },
  {
   "cell_type": "code",
   "execution_count": 21,
   "id": "bb5d62bd",
   "metadata": {},
   "outputs": [
    {
     "data": {
      "text/plain": [
       "0.9193934557063048"
      ]
     },
     "execution_count": 21,
     "metadata": {},
     "output_type": "execute_result"
    }
   ],
   "source": [
    "sum = 0\n",
    "count = 0\n",
    "\n",
    "for i in range(len(actual)):\n",
    "    count += (max(len(actual[i][1]), len(pred[i][1])))\n",
    "\n",
    "for i in range(len(actual)):\n",
    "    for j in pred[i][1]:\n",
    "        if j in actual[i][1]:\n",
    "            sum += 1\n",
    "accuracy = sum / count\n",
    "accuracy"
   ]
  },
  {
   "cell_type": "code",
   "execution_count": null,
   "id": "f3a4c8e2",
   "metadata": {},
   "outputs": [],
   "source": []
  }
 ],
 "metadata": {
  "kernelspec": {
   "display_name": "opencv",
   "language": "python",
   "name": "python3"
  },
  "language_info": {
   "codemirror_mode": {
    "name": "ipython",
    "version": 3
   },
   "file_extension": ".py",
   "mimetype": "text/x-python",
   "name": "python",
   "nbconvert_exporter": "python",
   "pygments_lexer": "ipython3",
   "version": "3.10.18"
  }
 },
 "nbformat": 4,
 "nbformat_minor": 5
}
