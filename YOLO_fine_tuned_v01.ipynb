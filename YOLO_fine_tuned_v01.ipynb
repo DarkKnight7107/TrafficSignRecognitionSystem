{
 "cells": [
  {
   "cell_type": "code",
   "execution_count": null,
   "id": "81463e10",
   "metadata": {},
   "outputs": [],
   "source": [
    "import cv2\n",
    "import numpy as np\n",
    "from keras.models import load_model # type: ignore\n",
    "from keras.applications.imagenet_utils import preprocess_input # type: ignore\n",
    "import os\n",
    "import warnings\n",
    "warnings.filterwarnings(\"ignore\", category=FutureWarning)\n"
   ]
  },
  {
   "cell_type": "code",
   "execution_count": null,
   "id": "1830e901",
   "metadata": {},
   "outputs": [],
   "source": [
    "\n",
    "class_names = [\n",
    "    \"Speed limit 20\", \"Speed limit 30\", \"Speed limit 50\", \"Speed limit 60\",\n",
    "    \"Speed limit 70\", \"Speed limit 80\", \"End of speed limit 80\", \"Speed limit 100\",\n",
    "    \"Speed limit 120\", \"No passing\", \"No passing for trucks\", \"Right-of-way at intersection\",\n",
    "    \"Priority road\", \"Yield\", \"Stop\", \"No vehicles\", \"Vehicles over 3.5t prohibited\",\n",
    "    \"No entry\", \"General caution\", \"Dangerous curve left\", \"Dangerous curve right\",\n",
    "    \"Double curve\", \"Bumpy road\", \"Slippery road\", \"Road narrows on the right\",\n",
    "    \"Road work\", \"Traffic signals\", \"Pedestrians\", \"Children crossing\",\n",
    "    \"Bicycles crossing\", \"Beware of ice/snow\", \"Wild animals crossing\",\n",
    "    \"End of all restrictions\", \"Turn right ahead\", \"Turn left ahead\",\n",
    "    \"Ahead only\", \"Go straight or right\", \"Go straight or left\", \"Keep right\",\n",
    "    \"Keep left\", \"Roundabout\", \"End of no passing\", \"End of no passing for trucks\"\n",
    "]\n"
   ]
  },
  {
   "cell_type": "code",
   "execution_count": null,
   "id": "2a7ccf3c",
   "metadata": {},
   "outputs": [],
   "source": [
    "from ultralytics import YOLO\n",
    "\n",
    "model = YOLO(\"yolov8_fine_tuned_v01.pt\")\n",
    "\n",
    "cap = cv2.VideoCapture(0)\n",
    "\n",
    "cap.set(cv2.CAP_PROP_FRAME_WIDTH, 1280)\n",
    "cap.set(cv2.CAP_PROP_FRAME_HEIGHT, 720)\n",
    "\n",
    "while True:\n",
    "    ret, frame = cap.read()\n",
    "    if not ret:\n",
    "        break\n",
    "\n",
    "    results = model(frame)\n",
    "\n",
    "    annotated_frame = results[0].plot()\n",
    "\n",
    "    cv2.imshow(\"Traffic Sign Detection\", annotated_frame)\n",
    "\n",
    "    if cv2.waitKey(1) & 0xFF == ord(\"q\"):\n",
    "        break\n",
    "\n",
    "cap.release()\n",
    "cv2.destroyAllWindows()"
   ]
  },
  {
   "cell_type": "code",
   "execution_count": null,
   "id": "11ca99f9",
   "metadata": {},
   "outputs": [],
   "source": [
    "from ultralytics import YOLO\n",
    "\n",
    "model = YOLO(\"yolov8_fine_tuned_v01.pt\")"
   ]
  },
  {
   "cell_type": "code",
   "execution_count": 4,
   "id": "21a022c1",
   "metadata": {},
   "outputs": [],
   "source": [
    "\n",
    "image_folder = \"GTSDB/images/test\"\n",
    "labels_folder = \"GTSDB/labels/test\"\n",
    "\n",
    "output_file = \"v1_test_pred.txt\"\n",
    "\n",
    "with open(output_file, \"w\") as f:\n",
    "\n",
    "    for img_name in os.listdir(image_folder):\n",
    "        if img_name.lower().endswith((\".jpg\", \".png\", \".jpeg\")):\n",
    "            img_path = os.path.join(image_folder, img_name)\n",
    "            results = model.predict(source=img_path, save=False, conf=0.25, verbose=False)\n",
    "\n",
    "            class_ids = results[0].boxes.cls.tolist()\n",
    "\n",
    "            f.write(f\"{img_name} \" + \" \".join(str(int(cls_id)) for cls_id in class_ids) + \"\\n\")\n"
   ]
  },
  {
   "cell_type": "code",
   "execution_count": 5,
   "id": "8394958b",
   "metadata": {},
   "outputs": [],
   "source": [
    "with open(output_file, \"r\") as f:\n",
    "    lines = f.readlines()"
   ]
  },
  {
   "cell_type": "code",
   "execution_count": 6,
   "id": "a6f23432",
   "metadata": {},
   "outputs": [],
   "source": [
    "pred = []\n",
    "for line in lines:\n",
    "    parts = line.strip().split(' ')\n",
    "    img_name = parts[0]\n",
    "    if len(parts) > 1:\n",
    "        class_ids = [int(cls_id) for cls_id in parts[1:]]\n",
    "    else:\n",
    "        class_ids = [99]\n",
    "    if class_ids:\n",
    "        pred.append((img_name, class_ids))"
   ]
  },
  {
   "cell_type": "code",
   "execution_count": 7,
   "id": "a43db8ef",
   "metadata": {},
   "outputs": [],
   "source": [
    "actual = []\n",
    "for file in os.listdir(labels_folder):\n",
    "    with open(os.path.join(labels_folder, file), \"r\") as f:\n",
    "        content = f.readlines()\n",
    "        content = [line.strip() for line in content if line.strip()]\n",
    "        if content:\n",
    "            class_id = []\n",
    "            for line in content:\n",
    "                class_id.append(int(line.split()[0]))\n",
    "            actual.append((file, class_id))   "
   ]
  },
  {
   "cell_type": "code",
   "execution_count": 8,
   "id": "bb5d62bd",
   "metadata": {},
   "outputs": [
    {
     "data": {
      "text/plain": [
       "0.6475409836065574"
      ]
     },
     "execution_count": 8,
     "metadata": {},
     "output_type": "execute_result"
    }
   ],
   "source": [
    "sum = 0\n",
    "count = 0\n",
    "\n",
    "for i in range(len(actual)):\n",
    "    count += (max(len(actual[i][1]), len(pred[i][1])))\n",
    "\n",
    "for i in range(len(actual)):\n",
    "    for j in pred[i][1]:\n",
    "        if j in actual[i][1]:\n",
    "            sum += 1\n",
    "accuracy = sum / count\n",
    "accuracy"
   ]
  },
  {
   "cell_type": "code",
   "execution_count": null,
   "id": "f3a4c8e2",
   "metadata": {},
   "outputs": [],
   "source": []
  }
 ],
 "metadata": {
  "kernelspec": {
   "display_name": "opencv",
   "language": "python",
   "name": "python3"
  },
  "language_info": {
   "codemirror_mode": {
    "name": "ipython",
    "version": 3
   },
   "file_extension": ".py",
   "mimetype": "text/x-python",
   "name": "python",
   "nbconvert_exporter": "python",
   "pygments_lexer": "ipython3",
   "version": "3.10.18"
  }
 },
 "nbformat": 4,
 "nbformat_minor": 5
}
