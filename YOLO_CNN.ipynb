{
 "cells": [
  {
   "cell_type": "code",
   "execution_count": null,
   "id": "81463e10",
   "metadata": {},
   "outputs": [],
   "source": [
    "from keras.models import load_model # type: ignore\n",
    "from keras.applications.imagenet_utils import preprocess_input # type: ignore\n",
    "\n",
    "import cv2\n",
    "import numpy as np\n",
    "import os\n",
    "\n",
    "import warnings\n",
    "warnings.filterwarnings(\"ignore\", category=FutureWarning)\n"
   ]
  },
  {
   "cell_type": "code",
   "execution_count": 3,
   "id": "1830e901",
   "metadata": {},
   "outputs": [],
   "source": [
    "class_names = [\n",
    "    \"Speed limit 20\", \"Speed limit 30\", \"Speed limit 50\", \"Speed limit 60\",\n",
    "    \"Speed limit 70\", \"Speed limit 80\", \"End of speed limit 80\", \"Speed limit 100\",\n",
    "    \"Speed limit 120\", \"No passing\", \"No passing for trucks\", \"Right-of-way at intersection\",\n",
    "    \"Priority road\", \"Yield\", \"Stop\", \"No vehicles\", \"No trucks\",\n",
    "    \"No entry\", \"General caution\", \"Dangerous curve left\", \"Dangerous curve right\",\n",
    "    \"Double curve\", \"Bumpy road\", \"Slippery road\", \"Road narrows on the right\",\n",
    "    \"Road work\", \"Traffic signals\", \"Pedestrians\", \"Children crossing\",\n",
    "    \"Bicycles crossing\", \"Beware of ice/snow\", \"Wild animals crossing\",\n",
    "    \"End of all restrictions\", \"Turn right ahead\", \"Turn left ahead\",\n",
    "    \"Ahead only\", \"Go straight or right\", \"Go straight or left\", \"Keep right\",\n",
    "    \"Keep left\", \"Roundabout\", \"End of no passing\", \"End of no passing for trucks\"\n",
    "]\n",
    "\n",
    "def preprocess_sign(image):\n",
    "    image = cv2.resize(image, (32, 32))            # Resize to model input size\n",
    "    image = image.astype(\"float32\") / 255.0         # Normalize\n",
    "    image = np.expand_dims(image, axis=0)           # Add batch dimension\n",
    "    return image\n"
   ]
  },
  {
   "cell_type": "code",
   "execution_count": null,
   "id": "0aa8e27a",
   "metadata": {},
   "outputs": [],
   "source": [
    "import cv2\n",
    "import numpy as np\n",
    "import tensorflow as tf\n",
    "from ultralytics import YOLO\n",
    "\n",
    "yolo_model = YOLO('yolov8s.pt')  \n",
    "\n",
    "cnn_model = load_model(\"cnn_model_v02.h5\")\n",
    "\n",
    "cap = cv2.VideoCapture(0)\n",
    "\n",
    "while True:\n",
    "    ret, frame = cap.read()\n",
    "    if not ret:\n",
    "        break\n",
    "\n",
    "    results = yolo_model(frame)[0]\n",
    "\n",
    "    for box in results.boxes:\n",
    "        x1, y1, x2, y2 = map(int, box.xyxy[0].tolist())\n",
    "        class_id = int(box.cls[0])\n",
    "        conf = float(box.conf[0])\n",
    "\n",
    "        cropped_img = frame[y1:y2, x1:x2]\n",
    "\n",
    "        if cropped_img.size == 0:\n",
    "            continue\n",
    "\n",
    "        processed_img = preprocess_sign(cropped_img)\n",
    "        prediction = cnn_model.predict(processed_img)\n",
    "\n",
    "        label = class_names[np.argmax(prediction)]\n",
    "        cv2.rectangle(frame, (x1, y1), (x2, y2), (0, 255, 0), 2)\n",
    "        cv2.putText(frame, label, (x1, y1 - 10),\n",
    "                    cv2.FONT_HERSHEY_SIMPLEX, 0.6, (0, 255, 0), 2)\n",
    "\n",
    "    cv2.imshow(\"YOLOv8 + CNN\", frame)\n",
    "\n",
    "    if cv2.waitKey(1) & 0xFF == ord('q'):\n",
    "        break\n",
    "\n",
    "cap.release()\n",
    "cv2.destroyAllWindows()\n"
   ]
  },
  {
   "cell_type": "code",
   "execution_count": null,
   "id": "ba13bf2c",
   "metadata": {},
   "outputs": [
    {
     "name": "stderr",
     "output_type": "stream",
     "text": [
      "WARNING:absl:Compiled the loaded model, but the compiled metrics have yet to be built. `model.compile_metrics` will be empty until you train or evaluate the model.\n"
     ]
    }
   ],
   "source": [
    "yolo_model = YOLO(\"yolov8s.pt\")\n",
    "cnn_model = load_model('cnn_model_v01.h5')\n",
    "\n",
    "\n",
    "image_folder = \"GTSDB/images/train\"\n",
    "output_file = \"yolo_cnn_predictions.txt\"\n",
    "\n",
    "\n",
    "with open(output_file, \"w\") as f:\n",
    "    for img_name in os.listdir(image_folder):\n",
    "        if img_name.lower().endswith((\".jpg\", \".png\", \".jpeg\")):\n",
    "            img_path = os.path.join(image_folder, img_name)\n",
    "            image = cv2.imread(img_path)\n",
    "\n",
    "            results = yolo_model.predict(img_path, save=False, conf=0.25, verbose=False)\n",
    "            boxes = results[0].boxes.xyxy.cpu().numpy().astype(int)  # (x1, y1, x2, y2)\n",
    "\n",
    "            f.write(f\"{img_name} \")\n",
    "\n",
    "            for box in boxes:\n",
    "                x1, y1, x2, y2 = box\n",
    "                crop = image[y1:y2, x1:x2]\n",
    "\n",
    "                pred = cnn_model.predict(preprocess_sign(crop), verbose=0)\n",
    "                class_id = np.argmax(pred)\n",
    "\n",
    "                f.write(f\"{class_id} \")\n",
    "\n",
    "            f.write(\"\\n\")"
   ]
  },
  {
   "cell_type": "code",
   "execution_count": null,
   "id": "163febb0",
   "metadata": {},
   "outputs": [],
   "source": []
  },
  {
   "cell_type": "code",
   "execution_count": 13,
   "id": "69b51287",
   "metadata": {},
   "outputs": [],
   "source": [
    "with open(\"yolo_cnn_predictions.txt\", \"r\") as f:\n",
    "    lines = f.readlines()"
   ]
  },
  {
   "cell_type": "code",
   "execution_count": 14,
   "id": "58b4446a",
   "metadata": {},
   "outputs": [],
   "source": [
    "pred = []\n",
    "for line in lines:\n",
    "    parts = line.strip().split(' ')\n",
    "    img_name = parts[0]\n",
    "    if len(parts) > 1:\n",
    "        class_ids = [int(cls_id) for cls_id in parts[1:]]\n",
    "    else:\n",
    "        class_ids = [99]\n",
    "    if class_ids:\n",
    "        pred.append((img_name, class_ids))"
   ]
  },
  {
   "cell_type": "code",
   "execution_count": 15,
   "id": "935c349f",
   "metadata": {},
   "outputs": [],
   "source": [
    "actual = []\n",
    "for file in os.listdir(\"GTSDB/labels/train\"):\n",
    "    with open(os.path.join(\"GTSDB/labels/train\", file), \"r\") as f:\n",
    "        content = f.readlines()\n",
    "        content = [line.strip() for line in content if line.strip()]\n",
    "        if content:\n",
    "            class_id = []\n",
    "            for line in content:\n",
    "                class_id.append(int(line.split()[0]))\n",
    "            actual.append((file, class_id))   "
   ]
  },
  {
   "cell_type": "code",
   "execution_count": 16,
   "id": "11517346",
   "metadata": {},
   "outputs": [
    {
     "data": {
      "text/plain": [
       "0.05016181229773463"
      ]
     },
     "execution_count": 16,
     "metadata": {},
     "output_type": "execute_result"
    }
   ],
   "source": [
    "sum = 0\n",
    "count = 0\n",
    "\n",
    "for i in range(len(actual)):\n",
    "    count += (max(len(actual[i][1]), len(pred[i][1])))\n",
    "\n",
    "for i in range(len(actual)):\n",
    "    for j in pred[i][1]:\n",
    "        if j in actual[i][1]:\n",
    "            sum += 1\n",
    "accuracy = sum / count\n",
    "accuracy"
   ]
  },
  {
   "cell_type": "code",
   "execution_count": null,
   "id": "66c4d043",
   "metadata": {},
   "outputs": [],
   "source": []
  }
 ],
 "metadata": {
  "kernelspec": {
   "display_name": "opencv",
   "language": "python",
   "name": "python3"
  },
  "language_info": {
   "codemirror_mode": {
    "name": "ipython",
    "version": 3
   },
   "file_extension": ".py",
   "mimetype": "text/x-python",
   "name": "python",
   "nbconvert_exporter": "python",
   "pygments_lexer": "ipython3",
   "version": "3.10.18"
  }
 },
 "nbformat": 4,
 "nbformat_minor": 5
}
